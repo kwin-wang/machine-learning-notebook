{
 "cells": [
  {
   "cell_type": "markdown",
   "metadata": {},
   "source": [
    "# 说明\n",
    "\n",
    "\n",
    "KNN是一种非常经典的非参数学习算法，相比于基于最小二乘的线性回归算法，KNN也可以看做一种基于X邻域的条件估计"
   ]
  },
  {
   "cell_type": "code",
   "execution_count": 46,
   "metadata": {},
   "outputs": [],
   "source": [
    "import functools as func\n",
    "import numpy as np\n",
    "import matplotlib.pyplot as plt\n",
    "import seaborn as sns\n",
    "from sklearn import datasets as ds\n",
    "\n",
    "%matplotlib inline"
   ]
  },
  {
   "cell_type": "raw",
   "metadata": {},
   "source": [
    " A node has 5 fields\n",
    " axis (splitting axis)\n",
    " value (splitting value)\n",
    " left (left subtree)\n",
    " right (right subtree)\n",
    " point (hol"
   ]
  },
  {
   "cell_type": "code",
   "execution_count": 68,
   "metadata": {},
   "outputs": [],
   "source": [
    "@func.total_ordering\n",
    "class BinaryTreeNode:\n",
    "    def __init__(self, value, left=None, right=None):\n",
    "        self.left = left\n",
    "        self.right = right\n",
    "        self.value = value\n",
    "        \n",
    "    def __lt__(self, node):\n",
    "        return self.value < node.value\n",
    "    \n",
    "    def __eq__(self, node):\n",
    "        return self.value == node.value\n",
    "    \n",
    "    def __str__(self):\n",
    "        return str(self.value)\n",
    "    \n",
    "    def has_right_child(self):\n",
    "        return self.right is not None\n",
    "    \n",
    "    def has_left_child(self):\n",
    "        return self.left is not None\n",
    "    \n",
    "    def has_child(self):\n",
    "        return self.has_right_child() or self.has_left_child()"
   ]
  },
  {
   "cell_type": "code",
   "execution_count": 54,
   "metadata": {},
   "outputs": [
    {
     "data": {
      "text/plain": [
       "False"
      ]
     },
     "execution_count": 54,
     "metadata": {},
     "output_type": "execute_result"
    }
   ],
   "source": [
    "BinaryTreeNode(2) is None"
   ]
  },
  {
   "cell_type": "code",
   "execution_count": 69,
   "metadata": {},
   "outputs": [],
   "source": [
    "class BinaryTree:\n",
    "    def __init__(self):\n",
    "        self.root = None\n",
    "    \n",
    "    def add(self, value):\n",
    "        node = BinaryTreeNode(value)\n",
    "        if not self.is_empty():\n",
    "            self._add(self.root, node)\n",
    "        else:\n",
    "            self.root = node\n",
    "\n",
    "    \n",
    "    def _add(self, parent, node_new):\n",
    "        if node_new < parent:\n",
    "            print('Insert into left leaf')\n",
    "            if parent.has_left_child():\n",
    "                self._add(parent.left, node_new)\n",
    "            else:\n",
    "                parent.left = node_new\n",
    "        else:\n",
    "            print('Insert into right leaf')\n",
    "            if parent.has_right_child():\n",
    "                self._add(parent.right, node_new)\n",
    "            else:\n",
    "                parent.right = node_new\n",
    "        \n",
    "    \n",
    "    def clear(self):\n",
    "        if not self.is_empty():\n",
    "            self.root = None\n",
    "            \n",
    "    def is_empty(self):\n",
    "        return self.root is None\n",
    "    \n",
    "    def find(self, value):\n",
    "        if self.is_empty():\n",
    "            return False\n",
    "        \n",
    "        return self._find(self.root, value)\n",
    "        \n",
    "    \n",
    "    def _find(self, node, value):\n",
    "        if node.value == value:\n",
    "            return True\n",
    "        elif value < node.value:\n",
    "            return not has_left_child() or self._find(node.left, value)\n",
    "\n",
    "        else:\n",
    "            return not has_right_child() or self._find(node.right, value)\n",
    "\n",
    "    \n",
    "    def print_tree(self):\n",
    "        if self.root:\n",
    "            self._print_tree(self.root)\n",
    "    \n",
    "    def _print_tree(self, node):\n",
    "        if node is not None:\n",
    "            self._print_tree(node.left)\n",
    "            print(str(node.value) + ' ')\n",
    "            self._print_tree(node.right)"
   ]
  },
  {
   "cell_type": "code",
   "execution_count": 28,
   "metadata": {},
   "outputs": [],
   "source": [
    "bst = BinaryTree()"
   ]
  },
  {
   "cell_type": "code",
   "execution_count": 29,
   "metadata": {},
   "outputs": [],
   "source": [
    "bst.add(1)"
   ]
  },
  {
   "cell_type": "code",
   "execution_count": 30,
   "metadata": {},
   "outputs": [
    {
     "name": "stdout",
     "output_type": "stream",
     "text": [
      "Insert into right leaf\n",
      "Insert into right leaf\n",
      "Insert into left leaf\n"
     ]
    }
   ],
   "source": [
    "bst.add(5)\n",
    "bst.add(2)"
   ]
  },
  {
   "cell_type": "code",
   "execution_count": 32,
   "metadata": {},
   "outputs": [
    {
     "name": "stdout",
     "output_type": "stream",
     "text": [
      "Insert into right leaf\n",
      "Insert into right leaf\n",
      "Insert into right leaf\n",
      "Insert into left leaf\n",
      "Insert into right leaf\n",
      "Insert into right leaf\n",
      "Insert into right leaf\n",
      "Insert into left leaf\n",
      "Insert into right leaf\n",
      "Insert into left leaf\n",
      "Insert into right leaf\n",
      "Insert into right leaf\n"
     ]
    }
   ],
   "source": [
    "bst.add(7)\n",
    "bst.add(3)\n",
    "bst.add(6)\n",
    "bst.add(4)"
   ]
  },
  {
   "cell_type": "code",
   "execution_count": 33,
   "metadata": {},
   "outputs": [
    {
     "name": "stdout",
     "output_type": "stream",
     "text": [
      "1 \n",
      "2 \n",
      "3 \n",
      "4 \n",
      "5 \n",
      "6 \n",
      "7 \n"
     ]
    }
   ],
   "source": [
    "bst.print_tree()"
   ]
  },
  {
   "cell_type": "code",
   "execution_count": 70,
   "metadata": {},
   "outputs": [
    {
     "name": "stdout",
     "output_type": "stream",
     "text": [
      "Insert into right leaf\n",
      "Insert into left leaf\n",
      "Insert into right leaf\n",
      "Insert into right leaf\n",
      "Insert into left leaf\n",
      "Insert into right leaf\n"
     ]
    }
   ],
   "source": [
    "tree = BinaryTree()\n",
    "tree.add(3)\n",
    "tree.add(4)\n",
    "tree.add(0)\n",
    "tree.add(8)\n",
    "tree.add(2)"
   ]
  },
  {
   "cell_type": "code",
   "execution_count": 71,
   "metadata": {},
   "outputs": [
    {
     "name": "stdout",
     "output_type": "stream",
     "text": [
      "0 \n",
      "2 \n",
      "3 \n",
      "4 \n",
      "8 \n"
     ]
    }
   ],
   "source": [
    "tree.print_tree()"
   ]
  },
  {
   "cell_type": "code",
   "execution_count": 17,
   "metadata": {},
   "outputs": [],
   "source": [
    "knn = KNNClassifier()"
   ]
  },
  {
   "cell_type": "code",
   "execution_count": 18,
   "metadata": {},
   "outputs": [
    {
     "data": {
      "text/plain": [
       "2"
      ]
     },
     "execution_count": 18,
     "metadata": {},
     "output_type": "execute_result"
    }
   ],
   "source": [
    "knn.n_neighbors"
   ]
  },
  {
   "cell_type": "code",
   "execution_count": 20,
   "metadata": {},
   "outputs": [
    {
     "name": "stdout",
     "output_type": "stream",
     "text": [
      "Begin to build kdtree model\n"
     ]
    }
   ],
   "source": [
    "knn.kdtree()"
   ]
  }
 ],
 "metadata": {
  "kernelspec": {
   "display_name": "Python 2",
   "language": "python",
   "name": "python2"
  },
  "language_info": {
   "codemirror_mode": {
    "name": "ipython",
    "version": 2
   },
   "file_extension": ".py",
   "mimetype": "text/x-python",
   "name": "python",
   "nbconvert_exporter": "python",
   "pygments_lexer": "ipython2",
   "version": "2.7.12"
  }
 },
 "nbformat": 4,
 "nbformat_minor": 0
}
