{
 "cells": [
  {
   "cell_type": "markdown",
   "metadata": {},
   "source": [
    "# 说明\n",
    "\n",
    "\n",
    "KNN是一种非常经典的非参数学习算法，相比于基于最小二乘的线性回归算法，KNN也可以看做一种基于X邻域的条件估计"
   ]
  },
  {
   "cell_type": "code",
   "execution_count": 1,
   "metadata": {},
   "outputs": [],
   "source": [
    "import numpy as np\n",
    "import matplotlib.pyplot as plt\n",
    "import seaborn as sns\n",
    "from sklearn import datasets as ds\n",
    "\n",
    "%matplotlib inline"
   ]
  },
  {
   "cell_type": "raw",
   "metadata": {},
   "source": [
    " A node has 5 fields\n",
    " axis (splitting axis)\n",
    " value (splitting value)\n",
    " left (left subtree)\n",
    " right (right subtree)\n",
    " point (hol"
   ]
  },
  {
   "cell_type": "code",
   "execution_count": 14,
   "metadata": {},
   "outputs": [],
   "source": [
    "class Node(object):\n",
    "    def __init__(self, axis, value, left, right, point):\n",
    "        self._axis = axis\n",
    "        self._value = value\n",
    "        self._left = left\n",
    "        self._right = right\n",
    "        self._point = point\n",
    "        \n",
    "    @property\n",
    "    def point(self):\n",
    "        return self._point\n",
    "    \n",
    "    @property\n",
    "    def value(self):\n",
    "        return self._value\n",
    "    \n",
    "    @property\n",
    "    def left(self):\n",
    "        return self._left\n",
    "    \n",
    "    @property\n",
    "    def right(self):\n",
    "        return self._right\n",
    "    \n",
    "    @property\n",
    "    def axis(self):\n",
    "        return _axis\n",
    "    \n",
    "    \n",
    "class NearestNeighbors(object):\n",
    "    def __init__(self, n_neighbors=2, algorithm='kdtree'):\n",
    "        self._all_algorithm = {\n",
    "            'kdtree': self.kdtree\n",
    "        }\n",
    "        self._n_neighbors = n_neighbors\n",
    "        self._algorithm = algorithm\n",
    "        \n",
    "        self._build_model = self._all_algorithm.get(algorithm, None)\n",
    "        if self._build_model is None:\n",
    "            raise Exception('Invalid algorithm')\n",
    "        \n",
    "    @property\n",
    "    def n_neighbors(self):\n",
    "        return self._n_neighbors\n",
    "    \n",
    "    @property\n",
    "    def algorithm(self):\n",
    "        return self._algorithm\n",
    "    \n",
    "    def kdtree(self):\n",
    "        print('Begin to build kdtree model')\n",
    "        \n",
    "       \n",
    "    \n",
    "    def fix(self, X):\n",
    "        self._X = X\n",
    "        self._build_model()\n",
    "    \n",
    "    def kneighbors(self, X):\n",
    "        pass\n",
    "    \n",
    "    \n",
    "class KNNClassifier(NearestNeighbors):\n",
    "    def __init__(self, *args, **kwargs):\n",
    "        super(KNNClassifier, self).__init__(*args, **kwargs)\n",
    "        \n",
    "    \n",
    "    \n",
    "    "
   ]
  },
  {
   "cell_type": "code",
   "execution_count": 12,
   "metadata": {},
   "outputs": [],
   "source": [
    "knn = KNNClassifier()"
   ]
  },
  {
   "cell_type": "code",
   "execution_count": 13,
   "metadata": {},
   "outputs": [
    {
     "data": {
      "text/plain": [
       "2"
      ]
     },
     "execution_count": 13,
     "metadata": {},
     "output_type": "execute_result"
    }
   ],
   "source": [
    "knn.n_neighbors"
   ]
  }
 ],
 "metadata": {
  "kernelspec": {
   "display_name": "Python 2",
   "language": "python",
   "name": "python2"
  },
  "language_info": {
   "codemirror_mode": {
    "name": "ipython",
    "version": 2
   },
   "file_extension": ".py",
   "mimetype": "text/x-python",
   "name": "python",
   "nbconvert_exporter": "python",
   "pygments_lexer": "ipython2",
   "version": "2.7.12"
  }
 },
 "nbformat": 4,
 "nbformat_minor": 0
}
